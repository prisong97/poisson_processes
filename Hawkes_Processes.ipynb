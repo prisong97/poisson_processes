{
 "cells": [
  {
   "cell_type": "code",
   "execution_count": 188,
   "metadata": {},
   "outputs": [],
   "source": [
    "#imports\n",
    "\n",
    "import numpy as np\n",
    "import pandas as pd\n",
    "from numpy import random\n",
    "import matplotlib.pyplot as plt"
   ]
  },
  {
   "cell_type": "code",
   "execution_count": 328,
   "metadata": {},
   "outputs": [],
   "source": [
    "class hawkesbythinning:\n",
    "    \"\"\"\n",
    "    Implementation of Algorithm 2 (Hawkes Process by thinning) detailed\n",
    "    in the paper: Hawkes Processes, \n",
    "    https://arxiv.org/pdf/1507.02822.pdf   \n",
    "    \"\"\"\n",
    "    \n",
    "    def __init__(self, eps, T, lambda_, alpha, beta):\n",
    "        \n",
    "        # sanity check\n",
    "        assert T > 0\n",
    "        \n",
    "        self.T = T\n",
    "        self.eps = eps\n",
    "        self.lambda_ = lambda_\n",
    "        self.alpha = alpha\n",
    "        self.beta = beta\n",
    "        self.P = []\n",
    "        self.lam_star = []\n",
    "        self.t = 0\n",
    "        \n",
    "    def lamb_star(self, t, P):\n",
    "        \"\"\"\n",
    "        Compute the intensity value, given the intensity function on pg. 4.\n",
    "        \"\"\"\n",
    "        component_map = map(lambda x: self.alpha*np.exp(-self.beta*(t-x)), P)\n",
    "        val = self.lambda_ + sum(list(component_map))\n",
    "        return val\n",
    "    \n",
    "    def main(self):\n",
    "        \"\"\"\n",
    "        main function to call.\n",
    "        \"\"\"\n",
    "        while self.t < self.T:\n",
    "            M = self.lamb_star(self.t + self.eps, self.P)\n",
    "            E = random.exponential(M)\n",
    "            self.t += E\n",
    "            U = random.uniform(0, M)\n",
    "            if (self.t < self.T) and (U <= self.lamb_star(self.t, self.P)):\n",
    "                self.P.append(self.t)\n",
    "                self.lam_star.append(M)\n",
    "        return self.P\n",
    "        \n",
    "        \n",
    "    "
   ]
  },
  {
   "cell_type": "code",
   "execution_count": 342,
   "metadata": {},
   "outputs": [],
   "source": [
    "trial = hawkesbythinning(0.0000001, 10, 0.02, 2, 1.2)\n",
    "arrivals_ = trial.main()"
   ]
  },
  {
   "cell_type": "code",
   "execution_count": 343,
   "metadata": {},
   "outputs": [
    {
     "data": {
      "image/png": "[encoded data removed]",
      "text/plain": [
       "<Figure size 432x288 with 1 Axes>"
      ]
     },
     "metadata": {
      "needs_background": "light"
     },
     "output_type": "display_data"
    }
   ],
   "source": [
    "# visualise the time of arrivals\n",
    "\n",
    "plt.plot(arrivals_,  range(len(arrivals_)), marker='o')\n",
    "plt.xlabel(\"time\")\n",
    "plt.ylabel(\"Index of arrivals\")\n",
    "plt.xlim([0,10])\n",
    "plt.title(\"Visualisation of Hawkes Process arrivals\")\n",
    "plt.show()"
   ]
  },
  {
   "cell_type": "code",
   "execution_count": 344,
   "metadata": {},
   "outputs": [
    {
     "data": {
      "image/png": "[encoded data removed]",
      "text/plain": [
       "<Figure size 432x288 with 1 Axes>"
      ]
     },
     "metadata": {
      "needs_background": "light"
     },
     "output_type": "display_data"
    }
   ],
   "source": [
    "plt.plot(arrivals_,trial.lam_star, marker='o')\n",
    "plt.xlabel(\"time\")\n",
    "plt.ylabel(\"Lambda star\")\n",
    "plt.xlim([0,10])\n",
    "plt.title(\"Visualisation of Hawkes Process arrivals\")\n",
    "plt.show()"
   ]
  },
  {
   "cell_type": "code",
   "execution_count": null,
   "metadata": {},
   "outputs": [],
   "source": [
    "############################################"
   ]
  },
  {
   "cell_type": "code",
   "execution_count": 280,
   "metadata": {},
   "outputs": [],
   "source": [
    "class hawkesbyclusters:\n",
    "    \"\"\"\n",
    "    Implementation of Algorithm 3 (Hawkes Process by clusters) detailed\n",
    "    in the paper: Hawkes Processes, \n",
    "    https://arxiv.org/pdf/1507.02822.pdf   \n",
    "    \"\"\"\n",
    "    \n",
    "    def __init__(self, T, lambda_, alpha, beta):\n",
    "        \n",
    "        self.T = T\n",
    "        self.lambda_ = lambda_\n",
    "        self.alpha = alpha\n",
    "        self.beta = beta\n",
    "        self.P = []\n",
    "        \n",
    "    def generate_immigrants(self):\n",
    "        \"\"\"\n",
    "        generate number of immigrants, as well as their respective\n",
    "        times of arrival.\n",
    "        \"\"\"\n",
    "        self.k = random.poisson(self.lambda_*self.T)\n",
    "        self.Ck_arr = random.uniform(0, self.T, self.k)\n",
    "        \n",
    "    def generate_descendants(self):\n",
    "        \"\"\"\n",
    "        generate number of descendants for each immigrant.\n",
    "        \"\"\"\n",
    "        self.Dk_arr = random.poisson(self.alpha/self.beta, self.k)\n",
    "        \n",
    "    def main(self):\n",
    "        \"\"\"\n",
    "        main algorithm to generate hawkes process.\n",
    "        \"\"\"\n",
    "        self.generate_immigrants()\n",
    "        self.generate_descendants()\n",
    "        \n",
    "        for i in range(self.k):\n",
    "            desc = self.Dk_arr[i]\n",
    "            if desc > 0:\n",
    "                E_desc_arr = random.exponential(self.beta, desc)\n",
    "                E_desc_times_arr = self.Ck_arr[i] + E_desc_arr\n",
    "                self.P.extend(E_desc_times_arr)\n",
    "        \n",
    "        #remove descendants that arrived outside [0,T]\n",
    "        self.P_final = [d for d in self.P if d <= self.T]\n",
    "        \n",
    "        #add in immigrants and sort arrival times\n",
    "        self.P_final.extend(self.Ck_arr)\n",
    "        self.P_final.sort()\n",
    "        \n",
    "        return self.P_final\n",
    "                \n",
    "                \n",
    "                \n",
    "    "
   ]
  },
  {
   "cell_type": "code",
   "execution_count": 281,
   "metadata": {},
   "outputs": [],
   "source": [
    "# initialise the parameters of the Hawkes Process and generate the points\n",
    "test = hawkesbyclusters(10, 1, 2, 1.2)\n",
    "arrivals = test.main()"
   ]
  },
  {
   "cell_type": "code",
   "execution_count": 282,
   "metadata": {},
   "outputs": [
    {
     "data": {
      "image/png": "[encoded data removed]",
      "text/plain": [
       "<Figure size 432x288 with 1 Axes>"
      ]
     },
     "metadata": {
      "needs_background": "light"
     },
     "output_type": "display_data"
    }
   ],
   "source": [
    "# visualise the time of arrivals\n",
    "\n",
    "plt.plot(arrivals, range(len(arrivals)), marker='o')\n",
    "plt.xlabel(\"time\")\n",
    "plt.ylabel(\"Index of arrivals\")\n",
    "plt.xlim([0,10])\n",
    "plt.title(\"Visualisation of Hawkes Process arrivals\")\n",
    "plt.show()"
   ]
  },
  {
   "cell_type": "code",
   "execution_count": null,
   "metadata": {},
   "outputs": [],
   "source": [
    "####################"
   ]
  }
 ],
 "metadata": {
  "kernelspec": {
   "display_name": "Python 3",
   "language": "python",
   "name": "python3"
  },
  "language_info": {
   "codemirror_mode": {
    "name": "ipython",
    "version": 3
   },
   "file_extension": ".py",
   "mimetype": "text/x-python",
   "name": "python",
   "nbconvert_exporter": "python",
   "pygments_lexer": "ipython3",
   "version": "3.7.3"
  }
 },
 "nbformat": 4,
 "nbformat_minor": 2
}
